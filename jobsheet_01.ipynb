{
  "nbformat": 4,
  "nbformat_minor": 0,
  "metadata": {
    "colab": {
      "provenance": [],
      "authorship_tag": "ABX9TyOVwpa/wOIktKHzVB1igEF8",
      "include_colab_link": true
    },
    "kernelspec": {
      "name": "python3",
      "display_name": "Python 3"
    },
    "language_info": {
      "name": "python"
    }
  },
  "cells": [
    {
      "cell_type": "markdown",
      "metadata": {
        "id": "view-in-github",
        "colab_type": "text"
      },
      "source": [
        "<a href=\"https://colab.research.google.com/github/kangPrayit/2025_PBO_TI1C/blob/main/jobsheet_01.ipynb\" target=\"_parent\"><img src=\"https://colab.research.google.com/assets/colab-badge.svg\" alt=\"Open In Colab\"/></a>"
      ]
    },
    {
      "cell_type": "markdown",
      "source": [
        "# Jobsheet 01: Dasar Bahasa Pemrograman Python"
      ],
      "metadata": {
        "id": "AduSniozNIBK"
      }
    },
    {
      "cell_type": "code",
      "source": [
        "# 1. Number (int, float, complex)\n",
        "angka_int = 10\n",
        "print(\"angka_int = \", angka_int, \"->\", type(angka_int))"
      ],
      "metadata": {
        "id": "3jck5g2ANJ2R",
        "outputId": "0857d766-04f9-4009-90a8-0199889ff728",
        "colab": {
          "base_uri": "https://localhost:8080/"
        }
      },
      "execution_count": 4,
      "outputs": [
        {
          "output_type": "stream",
          "name": "stdout",
          "text": [
            "angka_int =  10 -> <class 'int'>\n"
          ]
        }
      ]
    },
    {
      "cell_type": "code",
      "source": [],
      "metadata": {
        "id": "DSNPW49YM1l3"
      },
      "execution_count": null,
      "outputs": []
    }
  ]
}